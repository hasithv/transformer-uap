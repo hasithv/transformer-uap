{
 "cells": [
  {
   "cell_type": "code",
   "execution_count": 8,
   "metadata": {},
   "outputs": [],
   "source": [
    "import attention as attn\n",
    "\n",
    "import numpy as np\n",
    "import jax\n",
    "import jax.numpy as jnp\n",
    "import jax.random as jr\n",
    "\n",
    "import matplotlib.pyplot as plt"
   ]
  },
  {
   "cell_type": "code",
   "execution_count": 9,
   "metadata": {},
   "outputs": [],
   "source": [
    "class MHA:\n",
    "    def __init__(self, emb, h, d):\n",
    "        self.emb = emb\n",
    "        self.h = h\n",
    "        self.d = d\n",
    "        self.L = len(self.h)\n",
    "\n",
    "        self.var_q = 1\n",
    "        self.var_k = 1\n",
    "        self.var_v = 1\n",
    "        self.var_o = 1\n",
    "\n",
    "        self.queries = []\n",
    "        self.keys = []\n",
    "        self.values = []\n",
    "        self.outputs = []\n",
    "\n",
    "    def init_weights(self, key):\n",
    "        keys = jr.split(key, self.L)\n",
    "        for i in range(self.L):\n",
    "            layer_keys = jr.split(keys[i], 3)\n",
    "            \n",
    "            if i == 0:\n",
    "                d_prev = self.emb\n",
    "            else:\n",
    "                d_prev = self.d[i-1]\n",
    "            h = self.h[i]\n",
    "            d = self.d[i]\n",
    "\n",
    "            self.queries.append(jr.normal(layer_keys[0], (h, d_prev, d)) * jnp.sqrt(self.var_q/d_prev))\n",
    "            self.keys.append(jr.normal(layer_keys[1], (h, d_prev, d)) * jnp.sqrt(self.var_k/d_prev))\n",
    "            self.values.append(jr.normal(layer_keys[2], (h, d_prev, d)) * jnp.sqrt(self.var_v/d_prev))\n",
    "            self.outputs.append(jr.normal(layer_keys[3], (h*d, d)) * jnp.sqrt(self.var_o/(h*d)))\n",
    "\n",
    "    def forward(self, x):\n",
    "        for i in range(self.L):\n",
    "            q = self.queries[i]\n",
    "            k = self.keys[i]\n",
    "            v = self.values[i]\n",
    "            o = self.outputs[i]\n",
    "            x = attn.mha(x, q, k, v, o, attn.identity)\n",
    "        return x\n",
    "        "
   ]
  },
  {
   "cell_type": "code",
   "execution_count": 10,
   "metadata": {},
   "outputs": [],
   "source": [
    "# rng key\n",
    "key = jr.PRNGKey(0)"
   ]
  },
  {
   "cell_type": "code",
   "execution_count": 21,
   "metadata": {},
   "outputs": [],
   "source": [
    "emb = 10 # token embedding dimension\n",
    "s = 7 # sequence length\n",
    "d = [50, 60, 100]\n",
    "h = [1, 1, 1]\n",
    "\n",
    "mha = MHA(emb, h, d)\n",
    "mha.var_q = 0.1\n",
    "mha.var_k = 0.1\n",
    "mha.var_v = 0.1\n",
    "mha.var_o = 0.1\n",
    "\n",
    "mha.init_weights(key)\n",
    "x = jr.normal(key, (1, s, emb))\n",
    "y = mha.forward(x)"
   ]
  },
  {
   "cell_type": "code",
   "execution_count": 22,
   "metadata": {},
   "outputs": [
    {
     "data": {
      "image/png": "[encoded data removed]",
      "text/plain": [
       "<Figure size 640x480 with 1 Axes>"
      ]
     },
     "metadata": {},
     "output_type": "display_data"
    }
   ],
   "source": [
    "# plot histogram of y\n",
    "plt.hist(y.flatten(), bins=100)\n",
    "# log scale\n",
    "plt.yscale('log')\n",
    "plt.show()"
   ]
  }
 ],
 "metadata": {
  "kernelspec": {
   "display_name": "base",
   "language": "python",
   "name": "python3"
  },
  "language_info": {
   "codemirror_mode": {
    "name": "ipython",
    "version": 3
   },
   "file_extension": ".py",
   "mimetype": "text/x-python",
   "name": "python",
   "nbconvert_exporter": "python",
   "pygments_lexer": "ipython3",
   "version": "3.12.9"
  }
 },
 "nbformat": 4,
 "nbformat_minor": 2
}
